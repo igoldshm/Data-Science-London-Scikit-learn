{
 "cells": [
  {
   "cell_type": "code",
   "execution_count": 1,
   "id": "1077edef",
   "metadata": {
    "_cell_guid": "b1076dfc-b9ad-4769-8c92-a6c4dae69d19",
    "_uuid": "8f2839f25d086af736a60e9eeb907d3b93b6e0e5",
    "execution": {
     "iopub.execute_input": "2025-03-17T23:35:29.647932Z",
     "iopub.status.busy": "2025-03-17T23:35:29.647577Z",
     "iopub.status.idle": "2025-03-17T23:35:32.761520Z",
     "shell.execute_reply": "2025-03-17T23:35:32.759872Z"
    },
    "papermill": {
     "duration": 3.120931,
     "end_time": "2025-03-17T23:35:32.763544",
     "exception": false,
     "start_time": "2025-03-17T23:35:29.642613",
     "status": "completed"
    },
    "tags": []
   },
   "outputs": [
    {
     "name": "stdout",
     "output_type": "stream",
     "text": [
      "/kaggle/input/data-science-london-scikit-learn/trainLabels.csv\n",
      "/kaggle/input/data-science-london-scikit-learn/train.csv\n",
      "/kaggle/input/data-science-london-scikit-learn/test.csv\n"
     ]
    }
   ],
   "source": [
    "import numpy as np # linear algebra\n",
    "import pandas as pd # data processing, CSV file I/O (e.g. pd.read_csv)\n",
    "from sklearn.preprocessing import StandardScaler\n",
    "from sklearn.model_selection import cross_val_score\n",
    "from sklearn.ensemble import RandomForestClassifier\n",
    "from sklearn.metrics import accuracy_score, classification_report, roc_auc_score\n",
    "\n",
    "import os\n",
    "for dirname, _, filenames in os.walk('/kaggle/input'):\n",
    "    for filename in filenames:\n",
    "        print(os.path.join(dirname, filename))"
   ]
  },
  {
   "cell_type": "code",
   "execution_count": 2,
   "id": "d79c541d",
   "metadata": {
    "execution": {
     "iopub.execute_input": "2025-03-17T23:35:32.773327Z",
     "iopub.status.busy": "2025-03-17T23:35:32.772765Z",
     "iopub.status.idle": "2025-03-17T23:35:32.855665Z",
     "shell.execute_reply": "2025-03-17T23:35:32.854477Z"
    },
    "papermill": {
     "duration": 0.088786,
     "end_time": "2025-03-17T23:35:32.857475",
     "exception": false,
     "start_time": "2025-03-17T23:35:32.768689",
     "status": "completed"
    },
    "tags": []
   },
   "outputs": [
    {
     "data": {
      "text/html": [
       "<div>\n",
       "<style scoped>\n",
       "    .dataframe tbody tr th:only-of-type {\n",
       "        vertical-align: middle;\n",
       "    }\n",
       "\n",
       "    .dataframe tbody tr th {\n",
       "        vertical-align: top;\n",
       "    }\n",
       "\n",
       "    .dataframe thead th {\n",
       "        text-align: right;\n",
       "    }\n",
       "</style>\n",
       "<table border=\"1\" class=\"dataframe\">\n",
       "  <thead>\n",
       "    <tr style=\"text-align: right;\">\n",
       "      <th></th>\n",
       "      <th>0.29940251144353242</th>\n",
       "      <th>-1.2266241875260637</th>\n",
       "      <th>1.4984250500215328</th>\n",
       "      <th>-1.1761503610375272</th>\n",
       "      <th>5.2898525545597037</th>\n",
       "      <th>0.20829711393323402</th>\n",
       "      <th>2.4044983672405826</th>\n",
       "      <th>1.5945062220589785</th>\n",
       "      <th>-0.051608163273514231</th>\n",
       "      <th>0.66323431039687908</th>\n",
       "      <th>...</th>\n",
       "      <th>-0.85046544625016463</th>\n",
       "      <th>-0.62298999638261954</th>\n",
       "      <th>-1.8330573433160038</th>\n",
       "      <th>0.29302438506869571</th>\n",
       "      <th>3.5526813410266507</th>\n",
       "      <th>0.71761099417552265</th>\n",
       "      <th>3.3059719748508889</th>\n",
       "      <th>-2.7155588147154619</th>\n",
       "      <th>-2.6824085866346223</th>\n",
       "      <th>0.10105047232890663</th>\n",
       "    </tr>\n",
       "  </thead>\n",
       "  <tbody>\n",
       "    <tr>\n",
       "      <th>0</th>\n",
       "      <td>-1.174176</td>\n",
       "      <td>0.332157</td>\n",
       "      <td>0.949919</td>\n",
       "      <td>-1.285328</td>\n",
       "      <td>2.199061</td>\n",
       "      <td>-0.151268</td>\n",
       "      <td>-0.427039</td>\n",
       "      <td>2.619246</td>\n",
       "      <td>-0.765884</td>\n",
       "      <td>-0.093780</td>\n",
       "      <td>...</td>\n",
       "      <td>-0.819750</td>\n",
       "      <td>0.012037</td>\n",
       "      <td>2.038836</td>\n",
       "      <td>0.468579</td>\n",
       "      <td>-0.517657</td>\n",
       "      <td>0.422326</td>\n",
       "      <td>0.803699</td>\n",
       "      <td>1.213219</td>\n",
       "      <td>1.382932</td>\n",
       "      <td>-1.817761</td>\n",
       "    </tr>\n",
       "    <tr>\n",
       "      <th>1</th>\n",
       "      <td>1.192222</td>\n",
       "      <td>-0.414371</td>\n",
       "      <td>0.067054</td>\n",
       "      <td>-2.233568</td>\n",
       "      <td>3.658881</td>\n",
       "      <td>0.089007</td>\n",
       "      <td>0.203439</td>\n",
       "      <td>-4.219054</td>\n",
       "      <td>-1.184919</td>\n",
       "      <td>-1.240310</td>\n",
       "      <td>...</td>\n",
       "      <td>-0.604501</td>\n",
       "      <td>0.750054</td>\n",
       "      <td>-3.360521</td>\n",
       "      <td>0.856988</td>\n",
       "      <td>-2.751451</td>\n",
       "      <td>-1.582735</td>\n",
       "      <td>1.672246</td>\n",
       "      <td>0.656438</td>\n",
       "      <td>-0.932473</td>\n",
       "      <td>2.987436</td>\n",
       "    </tr>\n",
       "    <tr>\n",
       "      <th>2</th>\n",
       "      <td>1.573270</td>\n",
       "      <td>-0.580318</td>\n",
       "      <td>-0.866332</td>\n",
       "      <td>-0.603812</td>\n",
       "      <td>3.125716</td>\n",
       "      <td>0.870321</td>\n",
       "      <td>-0.161992</td>\n",
       "      <td>4.499666</td>\n",
       "      <td>1.038741</td>\n",
       "      <td>-1.092716</td>\n",
       "      <td>...</td>\n",
       "      <td>1.022959</td>\n",
       "      <td>1.275598</td>\n",
       "      <td>-3.480110</td>\n",
       "      <td>-1.065252</td>\n",
       "      <td>2.153133</td>\n",
       "      <td>1.563539</td>\n",
       "      <td>2.767117</td>\n",
       "      <td>0.215748</td>\n",
       "      <td>0.619645</td>\n",
       "      <td>1.883397</td>\n",
       "    </tr>\n",
       "    <tr>\n",
       "      <th>3</th>\n",
       "      <td>-0.613071</td>\n",
       "      <td>-0.644204</td>\n",
       "      <td>1.112558</td>\n",
       "      <td>-0.032397</td>\n",
       "      <td>3.490142</td>\n",
       "      <td>-0.011935</td>\n",
       "      <td>1.443521</td>\n",
       "      <td>-4.290282</td>\n",
       "      <td>-1.761308</td>\n",
       "      <td>0.807652</td>\n",
       "      <td>...</td>\n",
       "      <td>0.513906</td>\n",
       "      <td>-1.803473</td>\n",
       "      <td>0.518579</td>\n",
       "      <td>-0.205029</td>\n",
       "      <td>-4.744566</td>\n",
       "      <td>-1.520015</td>\n",
       "      <td>1.830651</td>\n",
       "      <td>0.870772</td>\n",
       "      <td>-1.894609</td>\n",
       "      <td>0.408332</td>\n",
       "    </tr>\n",
       "    <tr>\n",
       "      <th>4</th>\n",
       "      <td>-0.773247</td>\n",
       "      <td>-0.123227</td>\n",
       "      <td>0.047423</td>\n",
       "      <td>-0.210266</td>\n",
       "      <td>10.377793</td>\n",
       "      <td>0.526604</td>\n",
       "      <td>-2.751616</td>\n",
       "      <td>0.315541</td>\n",
       "      <td>0.608603</td>\n",
       "      <td>-0.043421</td>\n",
       "      <td>...</td>\n",
       "      <td>-1.487714</td>\n",
       "      <td>0.792790</td>\n",
       "      <td>-0.540711</td>\n",
       "      <td>0.114115</td>\n",
       "      <td>-0.277477</td>\n",
       "      <td>-0.896411</td>\n",
       "      <td>-2.805207</td>\n",
       "      <td>0.469162</td>\n",
       "      <td>3.614157</td>\n",
       "      <td>0.081689</td>\n",
       "    </tr>\n",
       "  </tbody>\n",
       "</table>\n",
       "<p>5 rows × 40 columns</p>\n",
       "</div>"
      ],
      "text/plain": [
       "   0.29940251144353242  -1.2266241875260637  1.4984250500215328  \\\n",
       "0            -1.174176             0.332157            0.949919   \n",
       "1             1.192222            -0.414371            0.067054   \n",
       "2             1.573270            -0.580318           -0.866332   \n",
       "3            -0.613071            -0.644204            1.112558   \n",
       "4            -0.773247            -0.123227            0.047423   \n",
       "\n",
       "   -1.1761503610375272  5.2898525545597037  0.20829711393323402  \\\n",
       "0            -1.285328            2.199061            -0.151268   \n",
       "1            -2.233568            3.658881             0.089007   \n",
       "2            -0.603812            3.125716             0.870321   \n",
       "3            -0.032397            3.490142            -0.011935   \n",
       "4            -0.210266           10.377793             0.526604   \n",
       "\n",
       "   2.4044983672405826  1.5945062220589785  -0.051608163273514231  \\\n",
       "0           -0.427039            2.619246              -0.765884   \n",
       "1            0.203439           -4.219054              -1.184919   \n",
       "2           -0.161992            4.499666               1.038741   \n",
       "3            1.443521           -4.290282              -1.761308   \n",
       "4           -2.751616            0.315541               0.608603   \n",
       "\n",
       "   0.66323431039687908  ...  -0.85046544625016463  -0.62298999638261954  \\\n",
       "0            -0.093780  ...             -0.819750              0.012037   \n",
       "1            -1.240310  ...             -0.604501              0.750054   \n",
       "2            -1.092716  ...              1.022959              1.275598   \n",
       "3             0.807652  ...              0.513906             -1.803473   \n",
       "4            -0.043421  ...             -1.487714              0.792790   \n",
       "\n",
       "   -1.8330573433160038  0.29302438506869571  3.5526813410266507  \\\n",
       "0             2.038836             0.468579           -0.517657   \n",
       "1            -3.360521             0.856988           -2.751451   \n",
       "2            -3.480110            -1.065252            2.153133   \n",
       "3             0.518579            -0.205029           -4.744566   \n",
       "4            -0.540711             0.114115           -0.277477   \n",
       "\n",
       "   0.71761099417552265  3.3059719748508889  -2.7155588147154619  \\\n",
       "0             0.422326            0.803699             1.213219   \n",
       "1            -1.582735            1.672246             0.656438   \n",
       "2             1.563539            2.767117             0.215748   \n",
       "3            -1.520015            1.830651             0.870772   \n",
       "4            -0.896411           -2.805207             0.469162   \n",
       "\n",
       "   -2.6824085866346223  0.10105047232890663  \n",
       "0             1.382932            -1.817761  \n",
       "1            -0.932473             2.987436  \n",
       "2             0.619645             1.883397  \n",
       "3            -1.894609             0.408332  \n",
       "4             3.614157             0.081689  \n",
       "\n",
       "[5 rows x 40 columns]"
      ]
     },
     "execution_count": 2,
     "metadata": {},
     "output_type": "execute_result"
    }
   ],
   "source": [
    "train_data = pd.read_csv(\"/kaggle/input/data-science-london-scikit-learn/train.csv\") # reading 40 feature columns\n",
    "train_data.head()"
   ]
  },
  {
   "cell_type": "code",
   "execution_count": 3,
   "id": "20c84830",
   "metadata": {
    "execution": {
     "iopub.execute_input": "2025-03-17T23:35:32.865420Z",
     "iopub.status.busy": "2025-03-17T23:35:32.864970Z",
     "iopub.status.idle": "2025-03-17T23:35:32.878139Z",
     "shell.execute_reply": "2025-03-17T23:35:32.877064Z"
    },
    "papermill": {
     "duration": 0.018871,
     "end_time": "2025-03-17T23:35:32.879705",
     "exception": false,
     "start_time": "2025-03-17T23:35:32.860834",
     "status": "completed"
    },
    "tags": []
   },
   "outputs": [
    {
     "data": {
      "text/html": [
       "<div>\n",
       "<style scoped>\n",
       "    .dataframe tbody tr th:only-of-type {\n",
       "        vertical-align: middle;\n",
       "    }\n",
       "\n",
       "    .dataframe tbody tr th {\n",
       "        vertical-align: top;\n",
       "    }\n",
       "\n",
       "    .dataframe thead th {\n",
       "        text-align: right;\n",
       "    }\n",
       "</style>\n",
       "<table border=\"1\" class=\"dataframe\">\n",
       "  <thead>\n",
       "    <tr style=\"text-align: right;\">\n",
       "      <th></th>\n",
       "      <th>1</th>\n",
       "    </tr>\n",
       "  </thead>\n",
       "  <tbody>\n",
       "    <tr>\n",
       "      <th>0</th>\n",
       "      <td>0</td>\n",
       "    </tr>\n",
       "    <tr>\n",
       "      <th>1</th>\n",
       "      <td>0</td>\n",
       "    </tr>\n",
       "    <tr>\n",
       "      <th>2</th>\n",
       "      <td>1</td>\n",
       "    </tr>\n",
       "    <tr>\n",
       "      <th>3</th>\n",
       "      <td>0</td>\n",
       "    </tr>\n",
       "    <tr>\n",
       "      <th>4</th>\n",
       "      <td>1</td>\n",
       "    </tr>\n",
       "  </tbody>\n",
       "</table>\n",
       "</div>"
      ],
      "text/plain": [
       "   1\n",
       "0  0\n",
       "1  0\n",
       "2  1\n",
       "3  0\n",
       "4  1"
      ]
     },
     "execution_count": 3,
     "metadata": {},
     "output_type": "execute_result"
    }
   ],
   "source": [
    "train_labels = pd.read_csv(\"/kaggle/input/data-science-london-scikit-learn/trainLabels.csv\") #reading binary classification column\n",
    "train_labels.head()"
   ]
  },
  {
   "cell_type": "code",
   "execution_count": 4,
   "id": "0d6aa6ec",
   "metadata": {
    "execution": {
     "iopub.execute_input": "2025-03-17T23:35:32.887536Z",
     "iopub.status.busy": "2025-03-17T23:35:32.887148Z",
     "iopub.status.idle": "2025-03-17T23:35:32.892506Z",
     "shell.execute_reply": "2025-03-17T23:35:32.891421Z"
    },
    "papermill": {
     "duration": 0.011028,
     "end_time": "2025-03-17T23:35:32.894116",
     "exception": false,
     "start_time": "2025-03-17T23:35:32.883088",
     "status": "completed"
    },
    "tags": []
   },
   "outputs": [
    {
     "name": "stdout",
     "output_type": "stream",
     "text": [
      "Shape of x: (999, 40)\n",
      "Shape of y: (999, 1)\n"
     ]
    }
   ],
   "source": [
    "#Let's check the shape of the data before we continue\n",
    "print(f\"Shape of x: {train_data.shape}\")\n",
    "print(f\"Shape of y: {train_labels.shape}\")"
   ]
  },
  {
   "cell_type": "code",
   "execution_count": 5,
   "id": "739aa9a2",
   "metadata": {
    "execution": {
     "iopub.execute_input": "2025-03-17T23:35:32.902115Z",
     "iopub.status.busy": "2025-03-17T23:35:32.901723Z",
     "iopub.status.idle": "2025-03-17T23:35:33.168734Z",
     "shell.execute_reply": "2025-03-17T23:35:33.167543Z"
    },
    "papermill": {
     "duration": 0.273097,
     "end_time": "2025-03-17T23:35:33.170567",
     "exception": false,
     "start_time": "2025-03-17T23:35:32.897470",
     "status": "completed"
    },
    "tags": []
   },
   "outputs": [
    {
     "data": {
      "text/html": [
       "<div>\n",
       "<style scoped>\n",
       "    .dataframe tbody tr th:only-of-type {\n",
       "        vertical-align: middle;\n",
       "    }\n",
       "\n",
       "    .dataframe tbody tr th {\n",
       "        vertical-align: top;\n",
       "    }\n",
       "\n",
       "    .dataframe thead th {\n",
       "        text-align: right;\n",
       "    }\n",
       "</style>\n",
       "<table border=\"1\" class=\"dataframe\">\n",
       "  <thead>\n",
       "    <tr style=\"text-align: right;\">\n",
       "      <th></th>\n",
       "      <th>2.8089094884322816</th>\n",
       "      <th>-0.2428941541280098</th>\n",
       "      <th>-0.54642134078742799</th>\n",
       "      <th>0.25516185655651813</th>\n",
       "      <th>1.7497359401586778</th>\n",
       "      <th>-0.030457614747139938</th>\n",
       "      <th>-1.3220705648016891</th>\n",
       "      <th>3.5780706827705329</th>\n",
       "      <th>-0.66757846469285065</th>\n",
       "      <th>-0.88425685382194696</th>\n",
       "      <th>...</th>\n",
       "      <th>-0.26168811207868709</th>\n",
       "      <th>-0.22437538915802702</th>\n",
       "      <th>-1.6756055243798111</th>\n",
       "      <th>-0.47958360985977283</th>\n",
       "      <th>-0.24438814509352236</th>\n",
       "      <th>-0.67235457360991246</th>\n",
       "      <th>0.51786002310577695</th>\n",
       "      <th>0.010664676497809677</th>\n",
       "      <th>-0.41921432660528302</th>\n",
       "      <th>2.8183870993565581</th>\n",
       "    </tr>\n",
       "  </thead>\n",
       "  <tbody>\n",
       "    <tr>\n",
       "      <th>0</th>\n",
       "      <td>-0.374101</td>\n",
       "      <td>0.537669</td>\n",
       "      <td>0.081063</td>\n",
       "      <td>0.756773</td>\n",
       "      <td>0.915231</td>\n",
       "      <td>2.557282</td>\n",
       "      <td>3.703187</td>\n",
       "      <td>1.673835</td>\n",
       "      <td>-0.764122</td>\n",
       "      <td>-1.228040</td>\n",
       "      <td>...</td>\n",
       "      <td>-0.969463</td>\n",
       "      <td>0.574154</td>\n",
       "      <td>-2.200519</td>\n",
       "      <td>-1.612240</td>\n",
       "      <td>0.179031</td>\n",
       "      <td>-2.924596</td>\n",
       "      <td>0.643610</td>\n",
       "      <td>-1.470939</td>\n",
       "      <td>-0.067408</td>\n",
       "      <td>-0.976265</td>\n",
       "    </tr>\n",
       "    <tr>\n",
       "      <th>1</th>\n",
       "      <td>-0.088370</td>\n",
       "      <td>0.154743</td>\n",
       "      <td>0.380716</td>\n",
       "      <td>-1.176126</td>\n",
       "      <td>1.699867</td>\n",
       "      <td>-0.258627</td>\n",
       "      <td>-1.384999</td>\n",
       "      <td>1.093584</td>\n",
       "      <td>1.596633</td>\n",
       "      <td>0.230631</td>\n",
       "      <td>...</td>\n",
       "      <td>-0.769885</td>\n",
       "      <td>-0.005143</td>\n",
       "      <td>1.467490</td>\n",
       "      <td>0.483803</td>\n",
       "      <td>-3.542981</td>\n",
       "      <td>0.814561</td>\n",
       "      <td>-1.652948</td>\n",
       "      <td>1.265866</td>\n",
       "      <td>-1.749248</td>\n",
       "      <td>1.773784</td>\n",
       "    </tr>\n",
       "    <tr>\n",
       "      <th>2</th>\n",
       "      <td>-0.685635</td>\n",
       "      <td>0.501283</td>\n",
       "      <td>1.873375</td>\n",
       "      <td>0.215224</td>\n",
       "      <td>-3.983468</td>\n",
       "      <td>-0.103637</td>\n",
       "      <td>4.136113</td>\n",
       "      <td>-0.225431</td>\n",
       "      <td>-1.515015</td>\n",
       "      <td>-1.071763</td>\n",
       "      <td>...</td>\n",
       "      <td>0.968609</td>\n",
       "      <td>2.386412</td>\n",
       "      <td>-0.131219</td>\n",
       "      <td>0.285646</td>\n",
       "      <td>2.302069</td>\n",
       "      <td>1.255588</td>\n",
       "      <td>-1.563090</td>\n",
       "      <td>-0.125258</td>\n",
       "      <td>-1.030761</td>\n",
       "      <td>-2.945329</td>\n",
       "    </tr>\n",
       "    <tr>\n",
       "      <th>3</th>\n",
       "      <td>0.350867</td>\n",
       "      <td>0.721897</td>\n",
       "      <td>-0.477104</td>\n",
       "      <td>-1.748776</td>\n",
       "      <td>-2.627405</td>\n",
       "      <td>1.075433</td>\n",
       "      <td>4.954253</td>\n",
       "      <td>-3.293501</td>\n",
       "      <td>-0.760369</td>\n",
       "      <td>0.204360</td>\n",
       "      <td>...</td>\n",
       "      <td>0.260553</td>\n",
       "      <td>-2.045650</td>\n",
       "      <td>-2.173227</td>\n",
       "      <td>0.372992</td>\n",
       "      <td>0.450700</td>\n",
       "      <td>-0.211657</td>\n",
       "      <td>1.301359</td>\n",
       "      <td>-0.522164</td>\n",
       "      <td>2.484883</td>\n",
       "      <td>0.039213</td>\n",
       "    </tr>\n",
       "    <tr>\n",
       "      <th>4</th>\n",
       "      <td>-0.424627</td>\n",
       "      <td>1.536196</td>\n",
       "      <td>-1.037752</td>\n",
       "      <td>-0.156466</td>\n",
       "      <td>-2.945038</td>\n",
       "      <td>-0.471607</td>\n",
       "      <td>3.494966</td>\n",
       "      <td>-2.763629</td>\n",
       "      <td>0.819540</td>\n",
       "      <td>0.209529</td>\n",
       "      <td>...</td>\n",
       "      <td>-0.727066</td>\n",
       "      <td>-0.809620</td>\n",
       "      <td>4.504230</td>\n",
       "      <td>-0.481077</td>\n",
       "      <td>-2.923646</td>\n",
       "      <td>-0.468034</td>\n",
       "      <td>-0.846214</td>\n",
       "      <td>1.197350</td>\n",
       "      <td>-5.615563</td>\n",
       "      <td>2.049134</td>\n",
       "    </tr>\n",
       "  </tbody>\n",
       "</table>\n",
       "<p>5 rows × 40 columns</p>\n",
       "</div>"
      ],
      "text/plain": [
       "   2.8089094884322816  -0.2428941541280098  -0.54642134078742799  \\\n",
       "0           -0.374101             0.537669              0.081063   \n",
       "1           -0.088370             0.154743              0.380716   \n",
       "2           -0.685635             0.501283              1.873375   \n",
       "3            0.350867             0.721897             -0.477104   \n",
       "4           -0.424627             1.536196             -1.037752   \n",
       "\n",
       "   0.25516185655651813  1.7497359401586778  -0.030457614747139938  \\\n",
       "0             0.756773            0.915231               2.557282   \n",
       "1            -1.176126            1.699867              -0.258627   \n",
       "2             0.215224           -3.983468              -0.103637   \n",
       "3            -1.748776           -2.627405               1.075433   \n",
       "4            -0.156466           -2.945038              -0.471607   \n",
       "\n",
       "   -1.3220705648016891  3.5780706827705329  -0.66757846469285065  \\\n",
       "0             3.703187            1.673835             -0.764122   \n",
       "1            -1.384999            1.093584              1.596633   \n",
       "2             4.136113           -0.225431             -1.515015   \n",
       "3             4.954253           -3.293501             -0.760369   \n",
       "4             3.494966           -2.763629              0.819540   \n",
       "\n",
       "   -0.88425685382194696  ...  -0.26168811207868709  -0.22437538915802702  \\\n",
       "0             -1.228040  ...             -0.969463              0.574154   \n",
       "1              0.230631  ...             -0.769885             -0.005143   \n",
       "2             -1.071763  ...              0.968609              2.386412   \n",
       "3              0.204360  ...              0.260553             -2.045650   \n",
       "4              0.209529  ...             -0.727066             -0.809620   \n",
       "\n",
       "   -1.6756055243798111  -0.47958360985977283  -0.24438814509352236  \\\n",
       "0            -2.200519             -1.612240              0.179031   \n",
       "1             1.467490              0.483803             -3.542981   \n",
       "2            -0.131219              0.285646              2.302069   \n",
       "3            -2.173227              0.372992              0.450700   \n",
       "4             4.504230             -0.481077             -2.923646   \n",
       "\n",
       "   -0.67235457360991246  0.51786002310577695  0.010664676497809677  \\\n",
       "0             -2.924596             0.643610             -1.470939   \n",
       "1              0.814561            -1.652948              1.265866   \n",
       "2              1.255588            -1.563090             -0.125258   \n",
       "3             -0.211657             1.301359             -0.522164   \n",
       "4             -0.468034            -0.846214              1.197350   \n",
       "\n",
       "   -0.41921432660528302  2.8183870993565581  \n",
       "0             -0.067408           -0.976265  \n",
       "1             -1.749248            1.773784  \n",
       "2             -1.030761           -2.945329  \n",
       "3              2.484883            0.039213  \n",
       "4             -5.615563            2.049134  \n",
       "\n",
       "[5 rows x 40 columns]"
      ]
     },
     "execution_count": 5,
     "metadata": {},
     "output_type": "execute_result"
    }
   ],
   "source": [
    "test_data = pd.read_csv(\"/kaggle/input/data-science-london-scikit-learn/test.csv\")\n",
    "test_data.head()"
   ]
  },
  {
   "cell_type": "code",
   "execution_count": 6,
   "id": "b64897d8",
   "metadata": {
    "execution": {
     "iopub.execute_input": "2025-03-17T23:35:33.179757Z",
     "iopub.status.busy": "2025-03-17T23:35:33.179427Z",
     "iopub.status.idle": "2025-03-17T23:35:33.234331Z",
     "shell.execute_reply": "2025-03-17T23:35:33.233060Z"
    },
    "papermill": {
     "duration": 0.061822,
     "end_time": "2025-03-17T23:35:33.236339",
     "exception": false,
     "start_time": "2025-03-17T23:35:33.174517",
     "status": "completed"
    },
    "tags": []
   },
   "outputs": [],
   "source": [
    "#Standerize the features\n",
    "Scaler = StandardScaler()\n",
    "train_data = Scaler.fit_transform(train_data)\n",
    "test_data = Scaler.fit_transform(test_data)"
   ]
  },
  {
   "cell_type": "code",
   "execution_count": 7,
   "id": "f2d53ecc",
   "metadata": {
    "execution": {
     "iopub.execute_input": "2025-03-17T23:35:33.246834Z",
     "iopub.status.busy": "2025-03-17T23:35:33.246474Z",
     "iopub.status.idle": "2025-03-17T23:35:33.811680Z",
     "shell.execute_reply": "2025-03-17T23:35:33.810537Z"
    },
    "papermill": {
     "duration": 0.572491,
     "end_time": "2025-03-17T23:35:33.813568",
     "exception": false,
     "start_time": "2025-03-17T23:35:33.241077",
     "status": "completed"
    },
    "tags": []
   },
   "outputs": [
    {
     "data": {
      "text/html": [
       "<style>#sk-container-id-1 {color: black;background-color: white;}#sk-container-id-1 pre{padding: 0;}#sk-container-id-1 div.sk-toggleable {background-color: white;}#sk-container-id-1 label.sk-toggleable__label {cursor: pointer;display: block;width: 100%;margin-bottom: 0;padding: 0.3em;box-sizing: border-box;text-align: center;}#sk-container-id-1 label.sk-toggleable__label-arrow:before {content: \"▸\";float: left;margin-right: 0.25em;color: #696969;}#sk-container-id-1 label.sk-toggleable__label-arrow:hover:before {color: black;}#sk-container-id-1 div.sk-estimator:hover label.sk-toggleable__label-arrow:before {color: black;}#sk-container-id-1 div.sk-toggleable__content {max-height: 0;max-width: 0;overflow: hidden;text-align: left;background-color: #f0f8ff;}#sk-container-id-1 div.sk-toggleable__content pre {margin: 0.2em;color: black;border-radius: 0.25em;background-color: #f0f8ff;}#sk-container-id-1 input.sk-toggleable__control:checked~div.sk-toggleable__content {max-height: 200px;max-width: 100%;overflow: auto;}#sk-container-id-1 input.sk-toggleable__control:checked~label.sk-toggleable__label-arrow:before {content: \"▾\";}#sk-container-id-1 div.sk-estimator input.sk-toggleable__control:checked~label.sk-toggleable__label {background-color: #d4ebff;}#sk-container-id-1 div.sk-label input.sk-toggleable__control:checked~label.sk-toggleable__label {background-color: #d4ebff;}#sk-container-id-1 input.sk-hidden--visually {border: 0;clip: rect(1px 1px 1px 1px);clip: rect(1px, 1px, 1px, 1px);height: 1px;margin: -1px;overflow: hidden;padding: 0;position: absolute;width: 1px;}#sk-container-id-1 div.sk-estimator {font-family: monospace;background-color: #f0f8ff;border: 1px dotted black;border-radius: 0.25em;box-sizing: border-box;margin-bottom: 0.5em;}#sk-container-id-1 div.sk-estimator:hover {background-color: #d4ebff;}#sk-container-id-1 div.sk-parallel-item::after {content: \"\";width: 100%;border-bottom: 1px solid gray;flex-grow: 1;}#sk-container-id-1 div.sk-label:hover label.sk-toggleable__label {background-color: #d4ebff;}#sk-container-id-1 div.sk-serial::before {content: \"\";position: absolute;border-left: 1px solid gray;box-sizing: border-box;top: 0;bottom: 0;left: 50%;z-index: 0;}#sk-container-id-1 div.sk-serial {display: flex;flex-direction: column;align-items: center;background-color: white;padding-right: 0.2em;padding-left: 0.2em;position: relative;}#sk-container-id-1 div.sk-item {position: relative;z-index: 1;}#sk-container-id-1 div.sk-parallel {display: flex;align-items: stretch;justify-content: center;background-color: white;position: relative;}#sk-container-id-1 div.sk-item::before, #sk-container-id-1 div.sk-parallel-item::before {content: \"\";position: absolute;border-left: 1px solid gray;box-sizing: border-box;top: 0;bottom: 0;left: 50%;z-index: -1;}#sk-container-id-1 div.sk-parallel-item {display: flex;flex-direction: column;z-index: 1;position: relative;background-color: white;}#sk-container-id-1 div.sk-parallel-item:first-child::after {align-self: flex-end;width: 50%;}#sk-container-id-1 div.sk-parallel-item:last-child::after {align-self: flex-start;width: 50%;}#sk-container-id-1 div.sk-parallel-item:only-child::after {width: 0;}#sk-container-id-1 div.sk-dashed-wrapped {border: 1px dashed gray;margin: 0 0.4em 0.5em 0.4em;box-sizing: border-box;padding-bottom: 0.4em;background-color: white;}#sk-container-id-1 div.sk-label label {font-family: monospace;font-weight: bold;display: inline-block;line-height: 1.2em;}#sk-container-id-1 div.sk-label-container {text-align: center;}#sk-container-id-1 div.sk-container {/* jupyter's `normalize.less` sets `[hidden] { display: none; }` but bootstrap.min.css set `[hidden] { display: none !important; }` so we also need the `!important` here to be able to override the default hidden behavior on the sphinx rendered scikit-learn.org. See: https://github.com/scikit-learn/scikit-learn/issues/21755 */display: inline-block !important;position: relative;}#sk-container-id-1 div.sk-text-repr-fallback {display: none;}</style><div id=\"sk-container-id-1\" class=\"sk-top-container\"><div class=\"sk-text-repr-fallback\"><pre>RandomForestClassifier()</pre><b>In a Jupyter environment, please rerun this cell to show the HTML representation or trust the notebook. <br />On GitHub, the HTML representation is unable to render, please try loading this page with nbviewer.org.</b></div><div class=\"sk-container\" hidden><div class=\"sk-item\"><div class=\"sk-estimator sk-toggleable\"><input class=\"sk-toggleable__control sk-hidden--visually\" id=\"sk-estimator-id-1\" type=\"checkbox\" checked><label for=\"sk-estimator-id-1\" class=\"sk-toggleable__label sk-toggleable__label-arrow\">RandomForestClassifier</label><div class=\"sk-toggleable__content\"><pre>RandomForestClassifier()</pre></div></div></div></div></div>"
      ],
      "text/plain": [
       "RandomForestClassifier()"
      ]
     },
     "execution_count": 7,
     "metadata": {},
     "output_type": "execute_result"
    }
   ],
   "source": [
    "y = train_labels.values.ravel()\n",
    "model = RandomForestClassifier()\n",
    "model.fit(train_data, y)"
   ]
  },
  {
   "cell_type": "code",
   "execution_count": 8,
   "id": "f0354eda",
   "metadata": {
    "execution": {
     "iopub.execute_input": "2025-03-17T23:35:33.822951Z",
     "iopub.status.busy": "2025-03-17T23:35:33.822604Z",
     "iopub.status.idle": "2025-03-17T23:35:33.928552Z",
     "shell.execute_reply": "2025-03-17T23:35:33.927276Z"
    },
    "papermill": {
     "duration": 0.112511,
     "end_time": "2025-03-17T23:35:33.930281",
     "exception": false,
     "start_time": "2025-03-17T23:35:33.817770",
     "status": "completed"
    },
    "tags": []
   },
   "outputs": [
    {
     "name": "stdout",
     "output_type": "stream",
     "text": [
      "[0 0 0 ... 1 0 1]\n"
     ]
    }
   ],
   "source": [
    "y_pred = model.predict(test_data)\n",
    "print(y_pred)"
   ]
  },
  {
   "cell_type": "code",
   "execution_count": 9,
   "id": "41e38880",
   "metadata": {
    "execution": {
     "iopub.execute_input": "2025-03-17T23:35:33.939487Z",
     "iopub.status.busy": "2025-03-17T23:35:33.939110Z",
     "iopub.status.idle": "2025-03-17T23:35:36.425505Z",
     "shell.execute_reply": "2025-03-17T23:35:36.424047Z"
    },
    "papermill": {
     "duration": 2.493387,
     "end_time": "2025-03-17T23:35:36.427605",
     "exception": false,
     "start_time": "2025-03-17T23:35:33.934218",
     "status": "completed"
    },
    "tags": []
   },
   "outputs": [
    {
     "name": "stdout",
     "output_type": "stream",
     "text": [
      "Cross-validation accuracy score: [0.875      0.88       0.885      0.845      0.84924623]\n"
     ]
    }
   ],
   "source": [
    "#Since we don't have GT for test_data we can't use accuracy_score. \n",
    "#Instead, we can use cross validation method\n",
    "# Perform 5-fold cross-validation\n",
    "cv_scores = cross_val_score(model, train_data, y, cv=5, scoring='accuracy')\n",
    "print(f\"Cross-validation accuracy score: {cv_scores}\")"
   ]
  }
 ],
 "metadata": {
  "kaggle": {
   "accelerator": "none",
   "dataSources": [
    {
     "databundleVersionId": 31210,
     "sourceId": 3428,
     "sourceType": "competition"
    }
   ],
   "dockerImageVersionId": 30918,
   "isGpuEnabled": false,
   "isInternetEnabled": true,
   "language": "python",
   "sourceType": "notebook"
  },
  "kernelspec": {
   "display_name": "Python 3",
   "language": "python",
   "name": "python3"
  },
  "language_info": {
   "codemirror_mode": {
    "name": "ipython",
    "version": 3
   },
   "file_extension": ".py",
   "mimetype": "text/x-python",
   "name": "python",
   "nbconvert_exporter": "python",
   "pygments_lexer": "ipython3",
   "version": "3.10.12"
  },
  "papermill": {
   "default_parameters": {},
   "duration": 10.55474,
   "end_time": "2025-03-17T23:35:37.255243",
   "environment_variables": {},
   "exception": null,
   "input_path": "__notebook__.ipynb",
   "output_path": "__notebook__.ipynb",
   "parameters": {},
   "start_time": "2025-03-17T23:35:26.700503",
   "version": "2.6.0"
  }
 },
 "nbformat": 4,
 "nbformat_minor": 5
}
